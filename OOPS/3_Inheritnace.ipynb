{
 "cells": [
  {
   "cell_type": "code",
   "execution_count": 7,
   "metadata": {},
   "outputs": [],
   "source": [
    "class Vehicle:\n",
    "    def __init__(self,company,cost,mileage):\n",
    "        self.company = company\n",
    "        self.cost  = cost\n",
    "        self.mileage = mileage\n",
    "\n",
    "    def show_details(self):\n",
    "        print(\"i am a car\")\n",
    "        print(self.company,\"costs\", self.cost ,\"and gives mileage of\",self.mileage)\n",
    "\n",
    "class BMW(Vehicle):\n",
    "    def show(self):\n",
    "        print(\"I am a BMW car\")"
   ]
  },
  {
   "cell_type": "code",
   "execution_count": 12,
   "metadata": {},
   "outputs": [
    {
     "name": "stdout",
     "output_type": "stream",
     "text": [
      "i am a car\n",
      "None costs 1cr and gives mileage of 18\n"
     ]
    }
   ],
   "source": [
    "b = Vehicle(\"None\",\"1cr\",18)\n",
    "b.show_details()"
   ]
  },
  {
   "cell_type": "code",
   "execution_count": 9,
   "metadata": {},
   "outputs": [
    {
     "name": "stdout",
     "output_type": "stream",
     "text": [
      "i am a car\n",
      "BMW costs 2cr and gives mileage of 20\n",
      "I am a BMW car\n"
     ]
    }
   ],
   "source": [
    "a = BMW(\"BMW\",\"2cr\",20)\n",
    "a.show_details()\n",
    "a.show()"
   ]
  },
  {
   "cell_type": "code",
   "execution_count": null,
   "metadata": {},
   "outputs": [],
   "source": []
  }
 ],
 "metadata": {
  "kernelspec": {
   "display_name": "Python 3",
   "language": "python",
   "name": "python3"
  },
  "language_info": {
   "codemirror_mode": {
    "name": "ipython",
    "version": 3
   },
   "file_extension": ".py",
   "mimetype": "text/x-python",
   "name": "python",
   "nbconvert_exporter": "python",
   "pygments_lexer": "ipython3",
   "version": "3.11.6"
  }
 },
 "nbformat": 4,
 "nbformat_minor": 2
}
