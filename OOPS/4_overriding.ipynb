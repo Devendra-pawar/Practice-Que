{
 "cells": [
  {
   "cell_type": "code",
   "execution_count": 18,
   "metadata": {},
   "outputs": [],
   "source": [
    "class Vehicle:\n",
    "    def __init__(self,company,cost,mileage):\n",
    "        self.company = company\n",
    "        self.cost  = cost\n",
    "        self.mileage = mileage\n",
    "\n",
    "    def show_details(self):\n",
    "        print(\"i am a vehicle\")\n",
    "        print(self.company,\"costs\", self.cost ,\"and gives mileage of\",self.mileage)\n"
   ]
  },
  {
   "cell_type": "code",
   "execution_count": 19,
   "metadata": {},
   "outputs": [],
   "source": [
    "class Car(Vehicle):\n",
    "    def __init__(self,company,cost,mileage,tyre, hp):\n",
    "        super().__init__(company,cost,mileage)\n",
    "        \n",
    "        self.tyre = tyre\n",
    "        self.hp = hp\n",
    "\n",
    "    def show_c_details(self):\n",
    "        print(\"tyres \", self.tyre , \"hp is \",self.hp )"
   ]
  },
  {
   "cell_type": "code",
   "execution_count": 20,
   "metadata": {},
   "outputs": [
    {
     "name": "stdout",
     "output_type": "stream",
     "text": [
      "i am a vehicle\n",
      "mercedes costs 4cr and gives mileage of 30\n",
      "tyres  4 hp is  400\n"
     ]
    }
   ],
   "source": [
    "mer = Car(\"mercedes\",\"4cr\",30,4,400)\n",
    "\n",
    "mer.show_details()\n",
    "mer.show_c_details()"
   ]
  }
 ],
 "metadata": {
  "kernelspec": {
   "display_name": "Python 3",
   "language": "python",
   "name": "python3"
  },
  "language_info": {
   "codemirror_mode": {
    "name": "ipython",
    "version": 3
   },
   "file_extension": ".py",
   "mimetype": "text/x-python",
   "name": "python",
   "nbconvert_exporter": "python",
   "pygments_lexer": "ipython3",
   "version": "3.11.6"
  }
 },
 "nbformat": 4,
 "nbformat_minor": 2
}
